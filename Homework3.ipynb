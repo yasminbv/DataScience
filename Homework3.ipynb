{
  "nbformat": 4,
  "nbformat_minor": 0,
  "metadata": {
    "colab": {
      "name": "Homework3.ipynb",
      "provenance": [],
      "include_colab_link": true
    },
    "kernelspec": {
      "name": "python3",
      "display_name": "Python 3"
    },
    "language_info": {
      "name": "python"
    },
    "accelerator": "GPU",
    "gpuClass": "standard"
  },
  "cells": [
    {
      "cell_type": "markdown",
      "metadata": {
        "id": "view-in-github",
        "colab_type": "text"
      },
      "source": [
        "<a href=\"https://colab.research.google.com/github/yasminbv/DataScience/blob/main/Homework3.ipynb\" target=\"_parent\"><img src=\"https://colab.research.google.com/assets/colab-badge.svg\" alt=\"Open In Colab\"/></a>"
      ]
    },
    {
      "cell_type": "code",
      "execution_count": 1,
      "metadata": {
        "id": "hTfxaTM5jqZY"
      },
      "outputs": [],
      "source": [
        "import pandas as pd\n",
        "import numpy as np\n",
        "import matplotlib.pyplot as plt\n",
        "import seaborn as sns"
      ]
    },
    {
      "cell_type": "code",
      "source": [
        "#Q1-Read the data https://raw.githubusercontent.com/ogut77/DataScience/main/data/diamond.csv\n",
        "\n",
        "z=pd.read_csv('https://raw.githubusercontent.com/ogut77/DataScience/main/data/diamond.csv')"
      ],
      "metadata": {
        "id": "T8jnje1Il-St"
      },
      "execution_count": 2,
      "outputs": []
    },
    {
      "cell_type": "markdown",
      "source": [
        "The description of dataset is given below.\n",
        "\n",
        "•\tID: Uniquely identifies each observation (diamond)\n",
        "\n",
        "•\tCarat Weight: The weight of the diamond in metric carats. One carat is equal to 0.2 grams, roughly the same weight as a paperclip\n",
        "\n",
        "•\tCut: One of five values indicating the cut of the diamond in the following order of desirability (Signature-Ideal, Ideal, Very Good, Good, Fair)\n",
        "\n",
        "•\tColor: One of six values indicating the diamond's color in the following order of desirability (D, E, F - Colorless, G, H, I - Near colorless)\n",
        "\n",
        "•\tClarity: One of seven values indicating the diamond's clarity in the following order of desirability (F - Flawless, IF - Internally Flawless, VVS1 or VVS2 - Very, Very Slightly Included, or VS1 or VS2 - Very Slightly Included, SI1 - Slightly Included)\n",
        "\n",
        "•\tPolish: One of four values indicating the diamond's polish (ID - Ideal, EX - Excellent, VG - Very Good, G - Good)\n",
        "\n",
        "•\tSymmetry: One of four values indicating the diamond's symmetry (ID - Ideal, EX - Excellent, VG - Very Good, G - Good)\n",
        "\n",
        "•\tReport: One of of two values \"AGSL\" or \"GIA\" indicating which grading agency reported the qualities of the diamond qualities\n",
        "\n",
        "•\tPrice: The The amount in USD that the diamond is valued\n"
      ],
      "metadata": {
        "id": "BuaIQNSwKfh7"
      }
    },
    {
      "cell_type": "code",
      "source": [
        "#Q2-Get first 2 rows of data\n",
        "\n",
        "z.head(2)"
      ],
      "metadata": {
        "colab": {
          "base_uri": "https://localhost:8080/",
          "height": 112
        },
        "id": "3tA-6vOnlW-V",
        "outputId": "46d978a0-1859-41a9-94bd-0e89a9b8ac1d"
      },
      "execution_count": 5,
      "outputs": [
        {
          "output_type": "execute_result",
          "data": {
            "text/plain": [
              "   Carat Weight    Cut Color Clarity Polish Symmetry Report  Price\n",
              "0          1.10  Ideal     H     SI1     VG       EX    GIA   5169\n",
              "1          0.83  Ideal     H     VS1     ID       ID   AGSL   3470"
            ],
            "text/html": [
              "\n",
              "  <div id=\"df-e5c98165-7540-457a-aad9-a7d8681c084c\">\n",
              "    <div class=\"colab-df-container\">\n",
              "      <div>\n",
              "<style scoped>\n",
              "    .dataframe tbody tr th:only-of-type {\n",
              "        vertical-align: middle;\n",
              "    }\n",
              "\n",
              "    .dataframe tbody tr th {\n",
              "        vertical-align: top;\n",
              "    }\n",
              "\n",
              "    .dataframe thead th {\n",
              "        text-align: right;\n",
              "    }\n",
              "</style>\n",
              "<table border=\"1\" class=\"dataframe\">\n",
              "  <thead>\n",
              "    <tr style=\"text-align: right;\">\n",
              "      <th></th>\n",
              "      <th>Carat Weight</th>\n",
              "      <th>Cut</th>\n",
              "      <th>Color</th>\n",
              "      <th>Clarity</th>\n",
              "      <th>Polish</th>\n",
              "      <th>Symmetry</th>\n",
              "      <th>Report</th>\n",
              "      <th>Price</th>\n",
              "    </tr>\n",
              "  </thead>\n",
              "  <tbody>\n",
              "    <tr>\n",
              "      <th>0</th>\n",
              "      <td>1.10</td>\n",
              "      <td>Ideal</td>\n",
              "      <td>H</td>\n",
              "      <td>SI1</td>\n",
              "      <td>VG</td>\n",
              "      <td>EX</td>\n",
              "      <td>GIA</td>\n",
              "      <td>5169</td>\n",
              "    </tr>\n",
              "    <tr>\n",
              "      <th>1</th>\n",
              "      <td>0.83</td>\n",
              "      <td>Ideal</td>\n",
              "      <td>H</td>\n",
              "      <td>VS1</td>\n",
              "      <td>ID</td>\n",
              "      <td>ID</td>\n",
              "      <td>AGSL</td>\n",
              "      <td>3470</td>\n",
              "    </tr>\n",
              "  </tbody>\n",
              "</table>\n",
              "</div>\n",
              "      <button class=\"colab-df-convert\" onclick=\"convertToInteractive('df-e5c98165-7540-457a-aad9-a7d8681c084c')\"\n",
              "              title=\"Convert this dataframe to an interactive table.\"\n",
              "              style=\"display:none;\">\n",
              "        \n",
              "  <svg xmlns=\"http://www.w3.org/2000/svg\" height=\"24px\"viewBox=\"0 0 24 24\"\n",
              "       width=\"24px\">\n",
              "    <path d=\"M0 0h24v24H0V0z\" fill=\"none\"/>\n",
              "    <path d=\"M18.56 5.44l.94 2.06.94-2.06 2.06-.94-2.06-.94-.94-2.06-.94 2.06-2.06.94zm-11 1L8.5 8.5l.94-2.06 2.06-.94-2.06-.94L8.5 2.5l-.94 2.06-2.06.94zm10 10l.94 2.06.94-2.06 2.06-.94-2.06-.94-.94-2.06-.94 2.06-2.06.94z\"/><path d=\"M17.41 7.96l-1.37-1.37c-.4-.4-.92-.59-1.43-.59-.52 0-1.04.2-1.43.59L10.3 9.45l-7.72 7.72c-.78.78-.78 2.05 0 2.83L4 21.41c.39.39.9.59 1.41.59.51 0 1.02-.2 1.41-.59l7.78-7.78 2.81-2.81c.8-.78.8-2.07 0-2.86zM5.41 20L4 18.59l7.72-7.72 1.47 1.35L5.41 20z\"/>\n",
              "  </svg>\n",
              "      </button>\n",
              "      \n",
              "  <style>\n",
              "    .colab-df-container {\n",
              "      display:flex;\n",
              "      flex-wrap:wrap;\n",
              "      gap: 12px;\n",
              "    }\n",
              "\n",
              "    .colab-df-convert {\n",
              "      background-color: #E8F0FE;\n",
              "      border: none;\n",
              "      border-radius: 50%;\n",
              "      cursor: pointer;\n",
              "      display: none;\n",
              "      fill: #1967D2;\n",
              "      height: 32px;\n",
              "      padding: 0 0 0 0;\n",
              "      width: 32px;\n",
              "    }\n",
              "\n",
              "    .colab-df-convert:hover {\n",
              "      background-color: #E2EBFA;\n",
              "      box-shadow: 0px 1px 2px rgba(60, 64, 67, 0.3), 0px 1px 3px 1px rgba(60, 64, 67, 0.15);\n",
              "      fill: #174EA6;\n",
              "    }\n",
              "\n",
              "    [theme=dark] .colab-df-convert {\n",
              "      background-color: #3B4455;\n",
              "      fill: #D2E3FC;\n",
              "    }\n",
              "\n",
              "    [theme=dark] .colab-df-convert:hover {\n",
              "      background-color: #434B5C;\n",
              "      box-shadow: 0px 1px 3px 1px rgba(0, 0, 0, 0.15);\n",
              "      filter: drop-shadow(0px 1px 2px rgba(0, 0, 0, 0.3));\n",
              "      fill: #FFFFFF;\n",
              "    }\n",
              "  </style>\n",
              "\n",
              "      <script>\n",
              "        const buttonEl =\n",
              "          document.querySelector('#df-e5c98165-7540-457a-aad9-a7d8681c084c button.colab-df-convert');\n",
              "        buttonEl.style.display =\n",
              "          google.colab.kernel.accessAllowed ? 'block' : 'none';\n",
              "\n",
              "        async function convertToInteractive(key) {\n",
              "          const element = document.querySelector('#df-e5c98165-7540-457a-aad9-a7d8681c084c');\n",
              "          const dataTable =\n",
              "            await google.colab.kernel.invokeFunction('convertToInteractive',\n",
              "                                                     [key], {});\n",
              "          if (!dataTable) return;\n",
              "\n",
              "          const docLinkHtml = 'Like what you see? Visit the ' +\n",
              "            '<a target=\"_blank\" href=https://colab.research.google.com/notebooks/data_table.ipynb>data table notebook</a>'\n",
              "            + ' to learn more about interactive tables.';\n",
              "          element.innerHTML = '';\n",
              "          dataTable['output_type'] = 'display_data';\n",
              "          await google.colab.output.renderOutput(dataTable, element);\n",
              "          const docLink = document.createElement('div');\n",
              "          docLink.innerHTML = docLinkHtml;\n",
              "          element.appendChild(docLink);\n",
              "        }\n",
              "      </script>\n",
              "    </div>\n",
              "  </div>\n",
              "  "
            ]
          },
          "metadata": {},
          "execution_count": 5
        }
      ]
    },
    {
      "cell_type": "code",
      "source": [
        "#Q3-Check if there is missing value\n",
        "\n",
        "z.isna().sum()"
      ],
      "metadata": {
        "id": "Km0DpQwUIj7O",
        "outputId": "8ccb929e-10ce-4b1c-cfcf-b1b5fa3944e6",
        "colab": {
          "base_uri": "https://localhost:8080/"
        }
      },
      "execution_count": 4,
      "outputs": [
        {
          "output_type": "execute_result",
          "data": {
            "text/plain": [
              "Carat Weight    0\n",
              "Cut             0\n",
              "Color           0\n",
              "Clarity         0\n",
              "Polish          0\n",
              "Symmetry        0\n",
              "Report          0\n",
              "Price           0\n",
              "dtype: int64"
            ]
          },
          "metadata": {},
          "execution_count": 4
        }
      ]
    },
    {
      "cell_type": "code",
      "source": [
        "#Q4- Get data information and number of rows and columns\n",
        "\n",
        "z.info()"
      ],
      "metadata": {
        "colab": {
          "base_uri": "https://localhost:8080/"
        },
        "id": "GzdD_OQYlmQ5",
        "outputId": "dca20dc7-4a4d-4eab-cee4-1f8f786bbc34"
      },
      "execution_count": 5,
      "outputs": [
        {
          "output_type": "stream",
          "name": "stdout",
          "text": [
            "<class 'pandas.core.frame.DataFrame'>\n",
            "RangeIndex: 6000 entries, 0 to 5999\n",
            "Data columns (total 8 columns):\n",
            " #   Column        Non-Null Count  Dtype  \n",
            "---  ------        --------------  -----  \n",
            " 0   Carat Weight  6000 non-null   float64\n",
            " 1   Cut           6000 non-null   object \n",
            " 2   Color         6000 non-null   object \n",
            " 3   Clarity       6000 non-null   object \n",
            " 4   Polish        6000 non-null   object \n",
            " 5   Symmetry      6000 non-null   object \n",
            " 6   Report        6000 non-null   object \n",
            " 7   Price         6000 non-null   int64  \n",
            "dtypes: float64(1), int64(1), object(6)\n",
            "memory usage: 375.1+ KB\n"
          ]
        }
      ]
    },
    {
      "cell_type": "code",
      "source": [
        "#Q5-Get descriptive statistics of data\n",
        "\n",
        "z.describe()"
      ],
      "metadata": {
        "colab": {
          "base_uri": "https://localhost:8080/",
          "height": 300
        },
        "id": "qdmnS0TlmE8U",
        "outputId": "1a4c3f9c-0a7e-4395-e2de-ccfb40745209"
      },
      "execution_count": 6,
      "outputs": [
        {
          "output_type": "execute_result",
          "data": {
            "text/plain": [
              "       Carat Weight          Price\n",
              "count   6000.000000    6000.000000\n",
              "mean       1.334520   11791.579333\n",
              "std        0.475696   10184.350051\n",
              "min        0.750000    2184.000000\n",
              "25%        1.000000    5150.500000\n",
              "50%        1.130000    7857.000000\n",
              "75%        1.590000   15036.500000\n",
              "max        2.910000  101561.000000"
            ],
            "text/html": [
              "\n",
              "  <div id=\"df-8c06e808-82af-44a2-93e4-3b5a13403294\">\n",
              "    <div class=\"colab-df-container\">\n",
              "      <div>\n",
              "<style scoped>\n",
              "    .dataframe tbody tr th:only-of-type {\n",
              "        vertical-align: middle;\n",
              "    }\n",
              "\n",
              "    .dataframe tbody tr th {\n",
              "        vertical-align: top;\n",
              "    }\n",
              "\n",
              "    .dataframe thead th {\n",
              "        text-align: right;\n",
              "    }\n",
              "</style>\n",
              "<table border=\"1\" class=\"dataframe\">\n",
              "  <thead>\n",
              "    <tr style=\"text-align: right;\">\n",
              "      <th></th>\n",
              "      <th>Carat Weight</th>\n",
              "      <th>Price</th>\n",
              "    </tr>\n",
              "  </thead>\n",
              "  <tbody>\n",
              "    <tr>\n",
              "      <th>count</th>\n",
              "      <td>6000.000000</td>\n",
              "      <td>6000.000000</td>\n",
              "    </tr>\n",
              "    <tr>\n",
              "      <th>mean</th>\n",
              "      <td>1.334520</td>\n",
              "      <td>11791.579333</td>\n",
              "    </tr>\n",
              "    <tr>\n",
              "      <th>std</th>\n",
              "      <td>0.475696</td>\n",
              "      <td>10184.350051</td>\n",
              "    </tr>\n",
              "    <tr>\n",
              "      <th>min</th>\n",
              "      <td>0.750000</td>\n",
              "      <td>2184.000000</td>\n",
              "    </tr>\n",
              "    <tr>\n",
              "      <th>25%</th>\n",
              "      <td>1.000000</td>\n",
              "      <td>5150.500000</td>\n",
              "    </tr>\n",
              "    <tr>\n",
              "      <th>50%</th>\n",
              "      <td>1.130000</td>\n",
              "      <td>7857.000000</td>\n",
              "    </tr>\n",
              "    <tr>\n",
              "      <th>75%</th>\n",
              "      <td>1.590000</td>\n",
              "      <td>15036.500000</td>\n",
              "    </tr>\n",
              "    <tr>\n",
              "      <th>max</th>\n",
              "      <td>2.910000</td>\n",
              "      <td>101561.000000</td>\n",
              "    </tr>\n",
              "  </tbody>\n",
              "</table>\n",
              "</div>\n",
              "      <button class=\"colab-df-convert\" onclick=\"convertToInteractive('df-8c06e808-82af-44a2-93e4-3b5a13403294')\"\n",
              "              title=\"Convert this dataframe to an interactive table.\"\n",
              "              style=\"display:none;\">\n",
              "        \n",
              "  <svg xmlns=\"http://www.w3.org/2000/svg\" height=\"24px\"viewBox=\"0 0 24 24\"\n",
              "       width=\"24px\">\n",
              "    <path d=\"M0 0h24v24H0V0z\" fill=\"none\"/>\n",
              "    <path d=\"M18.56 5.44l.94 2.06.94-2.06 2.06-.94-2.06-.94-.94-2.06-.94 2.06-2.06.94zm-11 1L8.5 8.5l.94-2.06 2.06-.94-2.06-.94L8.5 2.5l-.94 2.06-2.06.94zm10 10l.94 2.06.94-2.06 2.06-.94-2.06-.94-.94-2.06-.94 2.06-2.06.94z\"/><path d=\"M17.41 7.96l-1.37-1.37c-.4-.4-.92-.59-1.43-.59-.52 0-1.04.2-1.43.59L10.3 9.45l-7.72 7.72c-.78.78-.78 2.05 0 2.83L4 21.41c.39.39.9.59 1.41.59.51 0 1.02-.2 1.41-.59l7.78-7.78 2.81-2.81c.8-.78.8-2.07 0-2.86zM5.41 20L4 18.59l7.72-7.72 1.47 1.35L5.41 20z\"/>\n",
              "  </svg>\n",
              "      </button>\n",
              "      \n",
              "  <style>\n",
              "    .colab-df-container {\n",
              "      display:flex;\n",
              "      flex-wrap:wrap;\n",
              "      gap: 12px;\n",
              "    }\n",
              "\n",
              "    .colab-df-convert {\n",
              "      background-color: #E8F0FE;\n",
              "      border: none;\n",
              "      border-radius: 50%;\n",
              "      cursor: pointer;\n",
              "      display: none;\n",
              "      fill: #1967D2;\n",
              "      height: 32px;\n",
              "      padding: 0 0 0 0;\n",
              "      width: 32px;\n",
              "    }\n",
              "\n",
              "    .colab-df-convert:hover {\n",
              "      background-color: #E2EBFA;\n",
              "      box-shadow: 0px 1px 2px rgba(60, 64, 67, 0.3), 0px 1px 3px 1px rgba(60, 64, 67, 0.15);\n",
              "      fill: #174EA6;\n",
              "    }\n",
              "\n",
              "    [theme=dark] .colab-df-convert {\n",
              "      background-color: #3B4455;\n",
              "      fill: #D2E3FC;\n",
              "    }\n",
              "\n",
              "    [theme=dark] .colab-df-convert:hover {\n",
              "      background-color: #434B5C;\n",
              "      box-shadow: 0px 1px 3px 1px rgba(0, 0, 0, 0.15);\n",
              "      filter: drop-shadow(0px 1px 2px rgba(0, 0, 0, 0.3));\n",
              "      fill: #FFFFFF;\n",
              "    }\n",
              "  </style>\n",
              "\n",
              "      <script>\n",
              "        const buttonEl =\n",
              "          document.querySelector('#df-8c06e808-82af-44a2-93e4-3b5a13403294 button.colab-df-convert');\n",
              "        buttonEl.style.display =\n",
              "          google.colab.kernel.accessAllowed ? 'block' : 'none';\n",
              "\n",
              "        async function convertToInteractive(key) {\n",
              "          const element = document.querySelector('#df-8c06e808-82af-44a2-93e4-3b5a13403294');\n",
              "          const dataTable =\n",
              "            await google.colab.kernel.invokeFunction('convertToInteractive',\n",
              "                                                     [key], {});\n",
              "          if (!dataTable) return;\n",
              "\n",
              "          const docLinkHtml = 'Like what you see? Visit the ' +\n",
              "            '<a target=\"_blank\" href=https://colab.research.google.com/notebooks/data_table.ipynb>data table notebook</a>'\n",
              "            + ' to learn more about interactive tables.';\n",
              "          element.innerHTML = '';\n",
              "          dataTable['output_type'] = 'display_data';\n",
              "          await google.colab.output.renderOutput(dataTable, element);\n",
              "          const docLink = document.createElement('div');\n",
              "          docLink.innerHTML = docLinkHtml;\n",
              "          element.appendChild(docLink);\n",
              "        }\n",
              "      </script>\n",
              "    </div>\n",
              "  </div>\n",
              "  "
            ]
          },
          "metadata": {},
          "execution_count": 6
        }
      ]
    },
    {
      "cell_type": "code",
      "source": [
        "#Q6-Use seasoborns heat map to generate following heatmap\n",
        "# annot = True to print the correlation inside the square\n",
        "\n",
        "k=sns.heatmap(z.corr(),annot=True)"
      ],
      "metadata": {
        "colab": {
          "base_uri": "https://localhost:8080/",
          "height": 269
        },
        "id": "FfK17cCgXW0t",
        "outputId": "6737bee1-1bf3-4b40-b7a8-d5124cf7c763"
      },
      "execution_count": 7,
      "outputs": [
        {
          "output_type": "display_data",
          "data": {
            "text/plain": [
              "<Figure size 432x288 with 2 Axes>"
            ],
            "image/png": "[encoded data removed]"
          },
          "metadata": {
            "needs_background": "light"
          }
        }
      ]
    },
    {
      "cell_type": "code",
      "source": [
        "#Q7-Use seasoborns paiplot to generate following  diagram\n",
        "\n",
        "sns.pairplot(z)"
      ],
      "metadata": {
        "id": "DRsXK5YSJchH",
        "outputId": "f35169d9-c852-472d-f3eb-d917186bad01",
        "colab": {
          "base_uri": "https://localhost:8080/",
          "height": 391
        }
      },
      "execution_count": 8,
      "outputs": [
        {
          "output_type": "execute_result",
          "data": {
            "text/plain": [
              "<seaborn.axisgrid.PairGrid at 0x7fd3c4694fd0>"
            ]
          },
          "metadata": {},
          "execution_count": 8
        },
        {
          "output_type": "display_data",
          "data": {
            "text/plain": [
              "<Figure size 360x360 with 6 Axes>"
            ],
            "image/png": "[encoded data removed]"
          },
          "metadata": {
            "needs_background": "light"
          }
        }
      ]
    },
    {
      "cell_type": "code",
      "source": [
        "#Q8-Divide the data so that get Price as ouput variable (Y) and other variables as input varable (X)\n",
        "\n",
        "y=z['Price']\n",
        "X=z.drop(['Price'], axis=1)"
      ],
      "metadata": {
        "id": "uaRkCQVMOO6J"
      },
      "execution_count": 3,
      "outputs": []
    },
    {
      "cell_type": "code",
      "source": [
        "#Q9-Create dummy for the input variables (X)\n",
        "\n",
        "X=pd.get_dummies(X, drop_first=True)"
      ],
      "metadata": {
        "id": "yOnzVDOaOr7Q"
      },
      "execution_count": 4,
      "outputs": []
    },
    {
      "cell_type": "code",
      "source": [
        "#Q10 -Split the input and output data into two parts: test data (20%) and train data(%80)\n",
        "\n",
        "import sklearn\n",
        "from sklearn.linear_model import LinearRegression\n",
        "from sklearn.model_selection import train_test_split\n",
        "\n",
        "X=pd.get_dummies(X, drop_first=True)\n",
        "X_train, X_test, y_train, y_test = train_test_split(X, y, test_size=0.2, random_state=5)\n",
        "\n",
        "print(X_train.shape)\n",
        "print(y_train.shape)\n",
        "print(X_test.shape)\n",
        "print(y_test.shape)"
      ],
      "metadata": {
        "id": "tF8NMbxaO3BQ",
        "outputId": "42998f65-7fbd-425d-ca28-0ae68ff8a73c",
        "colab": {
          "base_uri": "https://localhost:8080/"
        }
      },
      "execution_count": 5,
      "outputs": [
        {
          "output_type": "stream",
          "name": "stdout",
          "text": [
            "(4800, 23)\n",
            "(4800,)\n",
            "(1200, 23)\n",
            "(1200,)\n"
          ]
        }
      ]
    },
    {
      "cell_type": "code",
      "source": [
        "def evalmetric(y,ypred):\n",
        " import numpy as np\n",
        " e = y - ypred \n",
        " mse_f = np.mean(e**2)\n",
        " rmse_f = np.sqrt(mse_f)\n",
        " mae_f = np.mean(abs(e))\n",
        " mape_f = 100*np.mean(abs(e/y))\n",
        " r2_f = 1-(sum(e**2)/sum((y-np.mean(y))**2))\n",
        " print(\"MSE:\", mse_f)\n",
        " print(\"RMSE:\", rmse_f)\n",
        " print(\"MAE:\",mae_f)\n",
        " print(\"MAPE:\",mape_f)\n",
        " print(\"R-Squared:\", r2_f)"
      ],
      "metadata": {
        "id": "dguz6T4nSAGe"
      },
      "execution_count": 6,
      "outputs": []
    },
    {
      "cell_type": "code",
      "source": [
        "#Q11 Use Linear regression to evaluate the performance of test and train data of Linear model  using evalmetric\n",
        "\n",
        "z_lm=LinearRegression()\n",
        "z_lm.fit(X_train, y_train)\n",
        "\n",
        "predT=z_lm.predict(X_train)\n",
        "evalmetric(y_train, predT)\n",
        "print()\n",
        "predT=z_lm.predict(X_test)\n",
        "evalmetric(y_test, predT)"
      ],
      "metadata": {
        "id": "BgBCwe9gRukQ",
        "outputId": "730c34f8-3963-41b8-df13-6c22796162ab",
        "colab": {
          "base_uri": "https://localhost:8080/"
        }
      },
      "execution_count": 7,
      "outputs": [
        {
          "output_type": "stream",
          "name": "stdout",
          "text": [
            "MSE: 13839948.248906838\n",
            "RMSE: 3720.2080921511415\n",
            "MAE: 2416.6382939623713\n",
            "MAPE: 28.379398782212938\n",
            "R-Squared: 0.8664692805874095\n",
            "\n",
            "MSE: 15440271.7800947\n",
            "RMSE: 3929.4111238320047\n",
            "MAE: 2461.6659183886954\n",
            "MAPE: 29.17949258728163\n",
            "R-Squared: 0.851216768376696\n"
          ]
        }
      ]
    },
    {
      "cell_type": "markdown",
      "source": [
        "Q12 -Based on the performance of test and training model, can we say there is overfitting or not in the performace of liner model?"
      ],
      "metadata": {
        "id": "jhUzCvI_SLJF"
      }
    },
    {
      "cell_type": "markdown",
      "source": [
        "**QUESTION12 ->ANSWER:**\n",
        "*Overfitting means that model doesn't generalize the data, but it learns its specific relationship between X and Y variables in training data. Thus, we can say that there is overfitting in performance of the liner model.*"
      ],
      "metadata": {
        "id": "aO-FyQXZt8LC"
      }
    },
    {
      "cell_type": "code",
      "source": [
        "#Q13- Use Lasso regression to evaluate the performance of test and train data   using evalmetric\n",
        "\n",
        "from sklearn.linear_model import Lasso\n",
        "lasso2=Lasso()\n",
        "lasso2.fit(X_train, y_train)\n",
        "\n",
        "predL=lasso2.predict(X_train)\n",
        "evalmetric(y_train, predL)\n",
        "print()\n",
        "predL=lasso2.predict(X_test)\n",
        "evalmetric(y_test, predL)"
      ],
      "metadata": {
        "id": "VNrzaVlFSeUr",
        "outputId": "9f13216b-ae55-4a68-9c55-f8ef47f2e70d",
        "colab": {
          "base_uri": "https://localhost:8080/"
        }
      },
      "execution_count": 8,
      "outputs": [
        {
          "output_type": "stream",
          "name": "stdout",
          "text": [
            "MSE: 13925780.708163053\n",
            "RMSE: 3731.7262370333456\n",
            "MAE: 2422.264603510413\n",
            "MAPE: 28.45897442940501\n",
            "R-Squared: 0.8656411510433316\n",
            "\n",
            "MSE: 15431904.362062912\n",
            "RMSE: 3928.3462630046897\n",
            "MAE: 2467.281017412697\n",
            "MAPE: 29.26822115942428\n",
            "R-Squared: 0.8512973972356204\n"
          ]
        },
        {
          "output_type": "stream",
          "name": "stderr",
          "text": [
            "/usr/local/lib/python3.8/dist-packages/sklearn/linear_model/_coordinate_descent.py:647: ConvergenceWarning: Objective did not converge. You might want to increase the number of iterations, check the scale of the features or consider increasing regularisation. Duality gap: 1.140e+10, tolerance: 4.975e+07\n",
            "  model = cd_fast.enet_coordinate_descent(\n"
          ]
        }
      ]
    },
    {
      "cell_type": "code",
      "source": [
        "#Q14 Use Ridge regreesionto evaluate the performance of test and train data   using evalmetric\n",
        "from sklearn.linear_model import Ridge\n",
        "ridge2=Ridge()\n",
        "ridge2.fit(X_train, y_train)\n",
        "print('Train data')\n",
        "predR=ridge2.predict(X_train)\n",
        "evalmetric(y_train, predR)\n",
        "print('Test data')\n",
        "predR=ridge2.predict(X_test)\n",
        "evalmetric(y_test, predR)"
      ],
      "metadata": {
        "id": "h55W6wA6Tuww",
        "outputId": "92dda2c5-1bec-4a15-8aa8-b46e00032cf4",
        "colab": {
          "base_uri": "https://localhost:8080/"
        }
      },
      "execution_count": 11,
      "outputs": [
        {
          "output_type": "stream",
          "name": "stdout",
          "text": [
            "Train data\n",
            "MSE: 14162075.174777133\n",
            "RMSE: 3763.2532700812385\n",
            "MAE: 2431.896068548525\n",
            "MAPE: 28.600458776593847\n",
            "R-Squared: 0.8633613325387581\n",
            "Test data\n",
            "MSE: 15429227.245038258\n",
            "RMSE: 3928.0055047107885\n",
            "MAE: 2475.551798681158\n",
            "MAPE: 29.42658637657207\n",
            "R-Squared: 0.8513231940692535\n"
          ]
        }
      ]
    },
    {
      "cell_type": "markdown",
      "source": [
        "Q15- Did you get any improvement on test data using Ridge and Lasso?\n",
        "Explain why? "
      ],
      "metadata": {
        "id": "GwvBE_fgUg02"
      }
    },
    {
      "cell_type": "markdown",
      "source": [
        "**QUESTION15 ->ANSWER:**\n",
        "*Yes, because Ridge and Lasso models are working in a way to decrease model complexity for better accuracy, by penalizing non-zero coefficients and keeping all variables in the model.*"
      ],
      "metadata": {
        "id": "L0XSZIVmuFoI"
      }
    },
    {
      "cell_type": "code",
      "source": [
        "#Q16-Use Decison Tree Regression to evaluate the performance of test and train data   using evalmetric\n",
        "\n",
        "from sklearn.tree import DecisionTreeClassifier\n",
        "dt=DecisionTreeClassifier(criterion='entropy', random_state=0)\n",
        "dt.fit(X_train, y_train)\n",
        "dt_pred_train=dt.predict(X_train)\n",
        "dt_pred_test=dt.predict(X_test)\n",
        "\n",
        "from sklearn.metrics import accuracy_score\n",
        "print(accuracy_score(y_train, dt_pred_train))\n",
        "print(accuracy_score(y_test, dt_pred_test))"
      ],
      "metadata": {
        "id": "d5b6RiZjUeuc",
        "outputId": "146bdfd5-6399-42fc-8eaa-444acbc1e414",
        "colab": {
          "base_uri": "https://localhost:8080/"
        }
      },
      "execution_count": 12,
      "outputs": [
        {
          "output_type": "stream",
          "name": "stdout",
          "text": [
            "0.85875\n",
            "0.02\n"
          ]
        }
      ]
    },
    {
      "cell_type": "code",
      "source": [
        "#Q17-Use Random Forest to evaluate the performance of test and train data   using evalmetric\n",
        "\n",
        "from sklearn.ensemble import RandomForestClassifier\n",
        "rfc=RandomForestClassifier(criterion='entropy', random_state=0)\n",
        "rfc.fit(X_train, y_train)\n",
        "rfc_pred_train=rfc.predict(X_train)\n",
        "rfc_pred_test=rfc.predict(X_test)\n",
        "\n",
        "from sklearn.metrics import accuracy_score\n",
        "print(accuracy_score(y_train, dt_pred_train))\n",
        "print(accuracy_score(y_test, dt_pred_test))"
      ],
      "metadata": {
        "id": "ZEcUQ9fbVJfI"
      },
      "execution_count": null,
      "outputs": []
    },
    {
      "cell_type": "markdown",
      "source": [
        "Q18-Why Random forest perform better than Decison Tree on test data?"
      ],
      "metadata": {
        "id": "QhddVy3qVis7"
      }
    },
    {
      "cell_type": "markdown",
      "source": [
        "**QUESTION18 ->ANSWER:**\n",
        "*Random Forest reduces overfitting problem by combining output of all the trees, thus, reduces variance and improves accuracy.*"
      ],
      "metadata": {
        "id": "So9rVXICuJ-K"
      }
    },
    {
      "cell_type": "markdown",
      "source": [
        "Q19- Which regression technique among Linear Regresssion, Lasso Regression ,Ridge Regression, Decision Tree and Random Forest  provide best performance on test data?\n"
      ],
      "metadata": {
        "id": "nFNRTXZrVUAt"
      }
    },
    {
      "cell_type": "markdown",
      "source": [
        "**QUESTION19 ->ANSWER:**\n",
        "*Out of all techniques, Lasso Regression and Decision Tree showed one of the best performances on test data.*"
      ],
      "metadata": {
        "id": "6_1LxTqYuUQP"
      }
    }
  ]
}