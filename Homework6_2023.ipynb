{
  "nbformat": 4,
  "nbformat_minor": 0,
  "metadata": {
    "colab": {
      "provenance": [],
      "include_colab_link": true
    },
    "kernelspec": {
      "name": "python3",
      "display_name": "Python 3"
    },
    "language_info": {
      "name": "python"
    }
  },
  "cells": [
    {
      "cell_type": "markdown",
      "metadata": {
        "id": "view-in-github",
        "colab_type": "text"
      },
      "source": [
        "<a href=\"https://colab.research.google.com/github/yasminbv/DataScience/blob/main/Homework6_2023.ipynb\" target=\"_parent\"><img src=\"https://colab.research.google.com/assets/colab-badge.svg\" alt=\"Open In Colab\"/></a>"
      ]
    },
    {
      "cell_type": "code",
      "execution_count": null,
      "metadata": {
        "id": "F0fOzKP-43mA"
      },
      "outputs": [],
      "source": [
        "# Data description is provided below\n",
        "import pandas as pd\n",
        "import numpy as np\n",
        "df = pd.read_csv('https://raw.githubusercontent.com/ogut77/DataScience/main/data/Leads.csv')\n",
        "df.info()"
      ]
    },
    {
      "cell_type": "code",
      "source": [
        " #There are missing values in the Lead data .\n",
        "# Replace missing variables with the mean  if variable is numeric or mode if variable is categorical.\n",
        "for col in df.columns:\n",
        "    if ((df[col].dtype == 'float64') or (df[col].dtype == 'float64')) :\n",
        "        df[col] = df[col].fillna(df[col].mean())\n",
        "    else:\n",
        "        df[col] = df[col].fillna(df[col].mode()[0])\n"
      ],
      "metadata": {
        "id": "ihog3y2T9uKN"
      },
      "execution_count": null,
      "outputs": []
    },
    {
      "cell_type": "code",
      "source": [
        "#Check that there are no missing data\n",
        "df.isnull().sum()"
      ],
      "metadata": {
        "id": "MekOuGEPHK0x"
      },
      "execution_count": null,
      "outputs": []
    },
    {
      "cell_type": "code",
      "source": [
        "from sklearn.preprocessing import LabelEncoder\n",
        "from sklearn.model_selection import train_test_split\n",
        "\n",
        "le = LabelEncoder()\n",
        "for col in df.columns:\n",
        "    if df[col].dtype == 'object':\n",
        "        df[col] = le.fit_transform(df[col])\n",
        "\n",
        "df = df.drop(columns=['Prospect ID','Lead Number'])\n",
        "y = df['Converted']\n",
        "X = df.drop(columns=['Converted'])\n",
        "\n",
        "X_train, X_test, y_train, y_test = train_test_split(X, y, test_size=0.30)"
      ],
      "metadata": {
        "id": "DKJ3NU0X_Gch"
      },
      "execution_count": null,
      "outputs": []
    },
    {
      "cell_type": "code",
      "source": [
        "def eval(yact,ypred):\n",
        " from sklearn import metrics\n",
        " print(\"Accuracy:\",metrics.accuracy_score(yact, ypred))\n",
        " print(\"Precision:\",metrics.precision_score(yact, ypred))\n",
        " print(\"Recall:\",metrics.recall_score(yact, ypred))\n",
        " \n",
        " cnf_matrix = metrics.confusion_matrix(yact, ypred)\n",
        " import numpy as np\n",
        " import matplotlib.pyplot as plt\n",
        " import seaborn as sns\n",
        " %matplotlib inline\n",
        " class_names=[0,1] # name  of classes\n",
        " fig, ax = plt.subplots()\n",
        " tick_marks = np.arange(len(class_names))\n",
        " plt.xticks(tick_marks, class_names)\n",
        " plt.yticks(tick_marks, class_names)\n",
        " # create heatmap\n",
        " sns.heatmap(pd.DataFrame(cnf_matrix), annot=True, cmap=\"YlGnBu\" ,fmt='g')\n",
        " ax.xaxis.set_label_position(\"top\")\n",
        " plt.tight_layout()\n",
        " plt.title('Confusion matrix', y=1.1)\n",
        " plt.ylabel('Actual label')\n",
        " plt.xlabel('Predicted label')\n"
      ],
      "metadata": {
        "id": "qyiN6tHuE4Zl"
      },
      "execution_count": null,
      "outputs": []
    },
    {
      "cell_type": "code",
      "source": [
        "#1)With optuna method and using train data  choose best method among Random Forest\",\"XGBoost\", \"LightGBM\",\"GradientBoostingClassifier\"\n",
        "#and optimeze these method based on following parameters.\n",
        "#max_depth = trial.suggest_int(\"max_depth\", 2,X_train.shape[1])\n",
        "#max_features = trial.suggest_int(\"max_features\", 2,X_train.shape[1])\n",
        "#Evaluate performance of the best method on test data using eval function defined above.\n",
        "#Note: This should be similar to what we have done in the exercises in class. \n",
        "!pip install optuna"
      ],
      "metadata": {
        "id": "g2gxBq6kCdWa"
      },
      "execution_count": null,
      "outputs": []
    },
    {
      "cell_type": "code",
      "source": [
        "import optuna\n",
        "import sklearn.datasets\n",
        "import sklearn.ensemble\n",
        "import sklearn.model_selection\n",
        "import sklearn.svm\n",
        "\n",
        "def objective(trial):\n",
        "    x, y = X_train,y_train\n",
        "\n",
        "    regressor_name = trial.suggest_categorical(\"regressor\", [\"GradientBoosting\", \"XGBoost\",\"LightGBM\",\"RandomForest\"])\n",
        "    if regressor_name == \"GradientBoosting\":\n",
        "         max_depth = trial.suggest_int(\"max_depth\", 2,X_train.shape[1])\n",
        "         max_features = trial.suggest_int(\"max_features\", 2,X_train.shape[1])\n",
        "         regressor_obj = sklearn.ensemble.GradientBoostingRegressor(random_state=17,  max_depth=max_depth, max_features=max_features )\n",
        "    \n",
        "    elif regressor_name == \"XGBoost\":\n",
        "         from xgboost import XGBRegressor\n",
        "         max_depth = trial.suggest_int(\"max_depth\", 2,X_train.shape[1])\n",
        "         max_features = trial.suggest_int(\"max_features\", 2,X_train.shape[1])\n",
        "         regressor_obj = XGBRegressor(random_state=17,  max_depth=max_depth, max_features=max_features )\n",
        "        \n",
        "    elif regressor_name == \"LightGBM\":\n",
        "         import lightgbm as lgb\n",
        "         max_depth = trial.suggest_int(\"max_depth\", 2,X_train.shape[1])\n",
        "         max_features = trial.suggest_int(\"max_features\", 2,X_train.shape[1])\n",
        "         regressor_obj = lgb.LGBMRegressor(random_state=17,  max_depth=max_depth, max_features=max_features )\n",
        "        \n",
        "    else:\n",
        "         max_depth = trial.suggest_int(\"max_depth\", 2,X_train.shape[1])\n",
        "         max_features = trial.suggest_int(\"max_features\", 2,X_train.shape[1])\n",
        "         regressor_obj = sklearn.ensemble.RandomForestRegressor(random_state=17,  max_depth=max_depth, max_features=max_features )\n",
        "\n",
        "    r2=sklearn.model_selection.cross_val_score(regressor_obj, x, y, n_jobs=-1, cv=3).mean()\n",
        "   \n",
        "    return r2\n",
        "\n",
        "if __name__ == \"__main__\":\n",
        "    study = optuna.create_study(direction=\"maximize\")\n",
        "    study.optimize(objective, n_trials=20)\n",
        "    print(study.best_trial)"
      ],
      "metadata": {
        "id": "wiigegmHqUKt"
      },
      "execution_count": null,
      "outputs": []
    },
    {
      "cell_type": "code",
      "source": [
        "params={ 'max_features': 2,X_train.shape[1],'max_depth': 2,X_train.shape[1] }\n",
        "import lightgbm as lgb\n",
        "lgbm = lgb.LGBMClassifier(random_state=17,**params)\n",
        "lgbm.fit(X_train, y_train)\n",
        "y_predlgbm = lgbm.predict(X_test)\n",
        "eval(y_test, y_predlgbm)\n",
        "\n",
        "from sklearn.ensemble import RandomForestRegressor\n",
        "rfr = RandomForestRegressor(random_state=17)\n",
        "rfr.fit(X_train,y_train)\n",
        "y_predrfr = rfr.predict(X_test)\n",
        "eval(y_test,y_predrfr)\n",
        "\n",
        "from sklearn.ensemble import GradientBoostingRegressor\n",
        "from time import time\n",
        "gbr = GradientBoostingRegressor(random_state=17)\n",
        "gbr.fit(X_train, y_train)\n",
        "y_predgbr = gbr.predict(X_test)\n",
        "eval(y_test,y_predgbr)\n",
        "\n",
        "from xgboost import XGBRegressor\n",
        "xgr = XGBRegressor(random_state=17)\n",
        "xgr.fit(X_train, y_train)\n",
        "y_predxgr = xgr.predict(X_test)\n",
        "evalmetric(y_test,y_predxgr)"
      ],
      "metadata": {
        "id": "cawb6WjIr8hp"
      },
      "execution_count": null,
      "outputs": []
    },
    {
      "cell_type": "code",
      "source": [
        "#2)Using pycaret AutoML tools,make prediction on test data and evaluate performance of prediction using eval function defined above.\n",
        "!pip install pycaret"
      ],
      "metadata": {
        "id": "vTf67JtDK-dP"
      },
      "execution_count": null,
      "outputs": []
    },
    {
      "cell_type": "code",
      "source": [
        "result = pd.concat([X_train, y_train], axis=1)\n",
        "from pycaret.classification import *\n",
        "s = setup(data = result, target = 'stroke', session_id=123,fold=5)\n",
        "tuned2 = tune_model(best_model)\n",
        "tuned_predictions = predict_model(tuned2, data=X_test)\n",
        "eval(y_test,tuned_predictions['prediction_label'])"
      ],
      "metadata": {
        "id": "l0hlwbiBqdR-"
      },
      "execution_count": null,
      "outputs": []
    },
    {
      "cell_type": "code",
      "source": [
        "#3) Using Autogluon  AutoML tools,make prediction on test data and evaluate performance of prediction using eval function defined above.\n",
        "!pip install autogluon"
      ],
      "metadata": {
        "id": "R1SvLYWmL8AM"
      },
      "execution_count": null,
      "outputs": []
    },
    {
      "cell_type": "code",
      "source": [
        "import pandas as pd\n",
        "from sklearn.model_selection import train_test_split\n",
        "from autogluon.tabular import TabularDataset, TabularPredictor \n",
        "predictor= TabularPredictor(label ='stroke').fit(train_data =result, verbosity = 2)\n",
        "y_pred = predictor.predict(X_test)\n",
        "y_pred=pd.DataFrame(y_pred,columns=['stroke'])\n",
        "eval(y_test,y_pred)"
      ],
      "metadata": {
        "id": "YrPP5QJTqjce"
      },
      "execution_count": null,
      "outputs": []
    }
  ]
}